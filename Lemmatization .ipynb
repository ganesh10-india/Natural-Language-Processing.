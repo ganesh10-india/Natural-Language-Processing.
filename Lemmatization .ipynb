{
 "cells": [
  {
   "cell_type": "code",
   "execution_count": 1,
   "metadata": {},
   "outputs": [],
   "source": [
    "import nltk\n",
    "from nltk.stem import WordNetLemmatizer\n",
    "from nltk.corpus import stopwords"
   ]
  },
  {
   "cell_type": "code",
   "execution_count": 2,
   "metadata": {},
   "outputs": [],
   "source": [
    "paragraph = \"\"\"Thank you all so very much. Thank you to the Academy. \n",
    "               Thank you to all of you in this room. I have to congratulate \n",
    "               the other incredible nominees this year. The Revenant was \n",
    "               the product of the tireless efforts of an unbelievable cast\n",
    "               and crew. First off, to my brother in this endeavor, Mr. Tom \n",
    "               Hardy. Tom, your talent on screen can only be surpassed by \n",
    "               your friendship off screen … thank you for creating a t\n",
    "               ranscendent cinematic experience. Thank you to everybody at \n",
    "               Fox and New Regency … my entire team. I have to thank \n",
    "               everyone from the very onset of my career … To my parents; \n",
    "               none of this would be possible without you. And to my \n",
    "               friends, I love you dearly; you know who you are. And lastly,\n",
    "               I just want to say this: Making The Revenant was about\n",
    "               man's relationship to the natural world. A world that we\n",
    "               collectively felt in 2015 as the hottest year in recorded\n",
    "               history. Our production needed to move to the southern\n",
    "               tip of this planet just to be able to find snow. Climate\n",
    "               change is real, it is happening right now. It is the most\n",
    "               urgent threat facing our entire species, and we need to work\n",
    "               collectively together and stop procrastinating. We need to\n",
    "               support leaders around the world who do not speak for the \n",
    "               big polluters, but who speak for all of humanity, for the\n",
    "               indigenous people of the world, for the billions and \n",
    "               billions of underprivileged people out there who would be\n",
    "               most affected by this. For our children’s children, and \n",
    "               for those people out there whose voices have been drowned\n",
    "               out by the politics of greed. I thank you all for this \n",
    "               amazing award tonight. Let us not take this planet for \n",
    "               granted. I do not take tonight for granted. Thank you so very much.\"\"\""
   ]
  },
  {
   "cell_type": "code",
   "execution_count": 3,
   "metadata": {},
   "outputs": [],
   "source": [
    "sentence  = nltk.sent_tokenize(paragraph)\n",
    "lemmatizer = WordNetLemmatizer()"
   ]
  },
  {
   "cell_type": "code",
   "execution_count": 4,
   "metadata": {},
   "outputs": [],
   "source": [
    "# Lemmatizer\n",
    "for i in range(len(sentence)):\n",
    "    words = nltk.word_tokenize(sentence[i])\n",
    "    word = [lemmatizer.lemmatize(word) for word in words if word not in set(stopwords.words('english'))]\n",
    "    sentence[i]= ''.join(words)"
   ]
  },
  {
   "cell_type": "code",
   "execution_count": 5,
   "metadata": {},
   "outputs": [
    {
     "data": {
      "text/plain": [
       "['Thankyouallsoverymuch.',\n",
       " 'ThankyoutotheAcademy.',\n",
       " 'Thankyoutoallofyouinthisroom.',\n",
       " 'Ihavetocongratulatetheotherincrediblenomineesthisyear.',\n",
       " 'TheRevenantwastheproductofthetirelesseffortsofanunbelievablecastandcrew.',\n",
       " 'Firstoff,tomybrotherinthisendeavor,Mr.TomHardy.',\n",
       " 'Tom,yourtalentonscreencanonlybesurpassedbyyourfriendshipoffscreen…thankyouforcreatingatranscendentcinematicexperience.',\n",
       " 'ThankyoutoeverybodyatFoxandNewRegency…myentireteam.',\n",
       " 'Ihavetothankeveryonefromtheveryonsetofmycareer…Tomyparents;noneofthiswouldbepossiblewithoutyou.',\n",
       " 'Andtomyfriends,Iloveyoudearly;youknowwhoyouare.',\n",
       " \"Andlastly,Ijustwanttosaythis:MakingTheRevenantwasaboutman'srelationshiptothenaturalworld.\",\n",
       " 'Aworldthatwecollectivelyfeltin2015asthehottestyearinrecordedhistory.',\n",
       " 'Ourproductionneededtomovetothesoutherntipofthisplanetjusttobeabletofindsnow.',\n",
       " 'Climatechangeisreal,itishappeningrightnow.',\n",
       " 'Itisthemosturgentthreatfacingourentirespecies,andweneedtoworkcollectivelytogetherandstopprocrastinating.',\n",
       " 'Weneedtosupportleadersaroundtheworldwhodonotspeakforthebigpolluters,butwhospeakforallofhumanity,fortheindigenouspeopleoftheworld,forthebillionsandbillionsofunderprivilegedpeopleouttherewhowouldbemostaffectedbythis.',\n",
       " 'Forourchildren’schildren,andforthosepeopleouttherewhosevoiceshavebeendrownedoutbythepoliticsofgreed.',\n",
       " 'Ithankyouallforthisamazingawardtonight.',\n",
       " 'Letusnottakethisplanetforgranted.',\n",
       " 'Idonottaketonightforgranted.',\n",
       " 'Thankyousoverymuch.']"
      ]
     },
     "execution_count": 5,
     "metadata": {},
     "output_type": "execute_result"
    }
   ],
   "source": [
    "sentence"
   ]
  },
  {
   "cell_type": "code",
   "execution_count": null,
   "metadata": {},
   "outputs": [],
   "source": []
  }
 ],
 "metadata": {
  "kernelspec": {
   "display_name": "Python 3",
   "language": "python",
   "name": "python3"
  },
  "language_info": {
   "codemirror_mode": {
    "name": "ipython",
    "version": 3
   },
   "file_extension": ".py",
   "mimetype": "text/x-python",
   "name": "python",
   "nbconvert_exporter": "python",
   "pygments_lexer": "ipython3",
   "version": "3.7.4"
  }
 },
 "nbformat": 4,
 "nbformat_minor": 2
}
